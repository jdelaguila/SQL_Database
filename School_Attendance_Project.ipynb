{
 "cells": [
  {
   "cell_type": "code",
   "execution_count": 1,
   "id": "64f46d31",
   "metadata": {},
   "outputs": [],
   "source": [
    "import mysql.connector\n",
    "from mysql.connector import Error\n",
    "import pandas as pd\n",
    "import configparser"
   ]
  },
  {
   "cell_type": "code",
   "execution_count": 2,
   "id": "39c39b4a",
   "metadata": {},
   "outputs": [],
   "source": [
    "config = configparser.ConfigParser()"
   ]
  },
  {
   "cell_type": "code",
   "execution_count": 3,
   "id": "a27e1f46",
   "metadata": {},
   "outputs": [
    {
     "data": {
      "text/plain": [
       "['mysql.config']"
      ]
     },
     "execution_count": 3,
     "metadata": {},
     "output_type": "execute_result"
    }
   ],
   "source": [
    "config.read('mysql.config')"
   ]
  },
  {
   "cell_type": "code",
   "execution_count": 4,
   "id": "f6c9d71c",
   "metadata": {},
   "outputs": [
    {
     "name": "stdout",
     "output_type": "stream",
     "text": [
      "localhost\n",
      "root\n",
      "MUGL4Skd\n"
     ]
    }
   ],
   "source": [
    "print(config['MYSQL']['host_name'])\n",
    "print(config['MYSQL']['user_name'])\n",
    "print(config['MYSQL']['user_password'])"
   ]
  },
  {
   "cell_type": "code",
   "execution_count": 5,
   "id": "737ebd37",
   "metadata": {},
   "outputs": [],
   "source": [
    "def create_server_connection(host_name, user_name, user_password):\n",
    "    connection = None\n",
    "    try:\n",
    "        connection = mysql.connector.connect(\n",
    "            host=host_name,\n",
    "            user=user_name,\n",
    "            passwd=user_password\n",
    "        )\n",
    "        print(\"MySQL Database connection successful\")\n",
    "    except Error as err:\n",
    "        print(f\"Error: '{err}'\")\n",
    "\n",
    "    return connection"
   ]
  },
  {
   "cell_type": "code",
   "execution_count": 6,
   "id": "dec9ff4d",
   "metadata": {},
   "outputs": [
    {
     "name": "stdout",
     "output_type": "stream",
     "text": [
      "MySQL Database connection successful\n"
     ]
    }
   ],
   "source": [
    "connection = create_server_connection(config['MYSQL']['host_name'],\n",
    "                                      config['MYSQL']['user_name'],\n",
    "                                      config['MYSQL']['user_password'])"
   ]
  },
  {
   "cell_type": "code",
   "execution_count": null,
   "id": "0d13f794",
   "metadata": {},
   "outputs": [],
   "source": []
  }
 ],
 "metadata": {
  "kernelspec": {
   "display_name": "Python 3 (ipykernel)",
   "language": "python",
   "name": "python3"
  },
  "language_info": {
   "codemirror_mode": {
    "name": "ipython",
    "version": 3
   },
   "file_extension": ".py",
   "mimetype": "text/x-python",
   "name": "python",
   "nbconvert_exporter": "python",
   "pygments_lexer": "ipython3",
   "version": "3.8.8"
  }
 },
 "nbformat": 4,
 "nbformat_minor": 5
}
